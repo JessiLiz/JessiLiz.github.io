{
 "cells": [
  {
   "cell_type": "markdown",
   "metadata": {},
   "source": [
    "## Documentación de mi proyecto final:\n",
    "\n",
    "Para este proyecto debía empezar por crear un repositorio donde almacenar mi GitHub Page y todos mis códigos.\n",
    "\n",
    "Crea el repositorio con GitHub fue fácil, luego de esto seguir el tutorial de la pag https://elc.github.io/posts/embed-interactive-notebooks/ la cual me ayudó mucho con la creación del Html con los pasos siguientes:\n",
    "Primero ejecutar en la consola de anaconda navegator el codigo pip install nbinteract donde instalo el nbinterct luego navego por mis carpetas hasta aplicarlo para el archivo que necesitaba que en mi caso era Pagina.html creando así un archivo Html con el cuaderno mencionado.\n",
    "\n",
    "Ya creado el archivo lo probe con myblinder viendo que efectivamente nos crea un cuaderno en nuestro repositorio el cual puedo modificar de tal manera que al guardar cambios, todo lo creado allí nos aparecera en una página web con una referencia .io.\n",
    "\n",
    "### Creación de fractales\n",
    "\n",
    "#### Conjunto de Newton\n",
    "\n",
    "Para la creación de mis fractales de Newton se uso matplotlib y PIL. Bibliotecas muy importantes para la generación de gráficos o guardar y manipular archivos de imagenes diferentes.\n",
    "Luego de tener nuestras blibliotecas use el me\n",
    "tódo de Newton donde intento encontrar por cada iteración las raices de la función, así se itera la funció con cada punto en el plano complejo hasta la convergencia.\n",
    "He coloreado de diferentes colores la velocidad a la que converge cada función.\n",
    "\n",
    "#### Conjunto de Julia\n",
    "\n",
    "Para la creacion de los conjuntos de Julia se uso las mismas blibliotecas antes mencionadas, este conjunto presenta algunas similitudes.\n",
    "Estos conjuntos se representan mediante un algoritmo de tiempo de escape, en que cada pixel se colorea según el número de iteraciones necesarias para escapar. Suele usarse un color especial, a menudo el negro, para representar los puntos que no han escapado tras un número grande y prefijado de iteraciones.\n",
    "\n",
    "#### Sistemas iterados de funciones \n",
    "\n",
    "Para la creación de los sistemas iterados de funciónes use la biblioteca turtle que su significado es graficos de tortuga quien usa un cursor para dibujar el fractal de manera iterada.\n",
    "Estos fractales se empiezan a formar a partir de trasformaciones, estas aplicaciónes sucesivas en el que la imagen se subdivide mediante una partición y para cada región resultante se busca otra región similar a la primera bajo las transformaciones apropiadas.\n",
    "El esquema resultante es un sistema de compresión con pérdidas, de tiempo asimétrico. Lamentablemente aún se tarda mucho en encontrar las transformaciones que definen la imagen. No obstante, una vez encontradas, la descodificación es muy rápida. La compresión, aunque dependa de muchos factores, suele ser equiparable a la compresión JPEG, con lo cual el factor tiempo resulta determinante para decantarse por uno u otro sistema.\n",
    "\n",
    "#### Interactivo para el algoritmo de Newton\n",
    "\n",
    "Por ultimo y no menos importante el interactivo de nuestro algoritmo de Newton, para este algoritmo use la biblioteca de ipywidget y sympy, bibliotecas adicionales a las antes mencionadas; donde podemos colocar la función que se requiera y este algoritmo lo graficara.\n",
    "\n",
    "## Agradecimientos\n",
    "\n",
    "Mis más sinceros agradecimientos por el tiempo compartido y sobre todo por todo el conocimiento impartido a lo largo del semestre.\n",
    "Un simple \"Gracias\" jamás podría ser suficiente para agradecer la labor realizada de un profesor.\n",
    "Muchisímas gracias!"
   ]
  },
  {
   "cell_type": "code",
   "execution_count": null,
   "metadata": {},
   "outputs": [],
   "source": []
  }
 ],
 "metadata": {
  "kernelspec": {
   "display_name": "Python 3",
   "language": "python",
   "name": "python3"
  },
  "language_info": {
   "codemirror_mode": {
    "name": "ipython",
    "version": 3
   },
   "file_extension": ".py",
   "mimetype": "text/x-python",
   "name": "python",
   "nbconvert_exporter": "python",
   "pygments_lexer": "ipython3",
   "version": "3.7.6"
  }
 },
 "nbformat": 4,
 "nbformat_minor": 4
}
